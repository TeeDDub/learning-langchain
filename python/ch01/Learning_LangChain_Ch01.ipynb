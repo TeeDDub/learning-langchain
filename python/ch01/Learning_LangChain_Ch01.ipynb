{
  "nbformat": 4,
  "nbformat_minor": 0,
  "metadata": {
    "colab": {
      "provenance": [],
      "toc_visible": true
    },
    "kernelspec": {
      "name": "python3",
      "display_name": "Python 3"
    },
    "language_info": {
      "name": "python"
    }
  },
  "cells": [
    {
      "cell_type": "markdown",
      "source": [
        "# 1장."
      ],
      "metadata": {
        "id": "cVJcOx1Sq5Vl"
      }
    },
    {
      "cell_type": "code",
      "source": [
        "!pip install langchain langchain-openai langchain-community\n",
        "!pip install langchain-text-splitters langchain-postgres"
      ],
      "metadata": {
        "id": "CcLcoaLgSv2M",
        "collapsed": true
      },
      "execution_count": null,
      "outputs": []
    },
    {
      "cell_type": "code",
      "source": [
        "from google.colab import userdata\n",
        "import os\n",
        "\n",
        "os.environ['OPENAI_API_KEY']=userdata.get('OPENAI_API_KEY')"
      ],
      "metadata": {
        "id": "_L4A9kSXTSYW"
      },
      "execution_count": 2,
      "outputs": []
    },
    {
      "cell_type": "markdown",
      "source": [
        "코드 1-1 기본 LLM 호출"
      ],
      "metadata": {
        "id": "z1u6_jg2cjV0"
      }
    },
    {
      "cell_type": "code",
      "execution_count": 3,
      "metadata": {
        "id": "VDbEjFXBQCnW",
        "colab": {
          "base_uri": "https://localhost:8080/",
          "height": 72
        },
        "outputId": "d5552c6c-5808-46fb-88ab-b766021364fb"
      },
      "outputs": [
        {
          "output_type": "execute_result",
          "data": {
            "text/plain": [
              "' a shade of grey\\n\\nThe clouds hang low and heavy\\n\\nThreatening to burst at any moment\\n\\nThe air is damp and cold\\n\\nA chill runs through my bones\\n\\nThe trees sway in the wind\\n\\nTheir branches reaching out like fingers\\n\\nThe birds are silent\\n\\nHuddled together in their nests\\n\\nEven the sun seems to have disappeared\\n\\nLeaving behind a monochromatic world\\n\\nBut amidst this dreary scene\\n\\nThere is a certain beauty\\n\\nIn the stillness and quietness\\n\\nThe promise of rain and renewal\\n\\nAnd I find myself enjoying\\n\\nThe peacefulness of this grey sky.'"
            ],
            "application/vnd.google.colaboratory.intrinsic+json": {
              "type": "string"
            }
          },
          "metadata": {},
          "execution_count": 3
        }
      ],
      "source": [
        "from langchain_openai.llms import OpenAI\n",
        "\n",
        "model = OpenAI(model=\"gpt-3.5-turbo-instruct\")\n",
        "\n",
        "model.invoke(\"The sky is\")"
      ]
    },
    {
      "cell_type": "markdown",
      "source": [
        "코드 1-2 채팅 모델 호출"
      ],
      "metadata": {
        "id": "FrPTvKY8co2b"
      }
    },
    {
      "cell_type": "code",
      "source": [
        "from langchain_openai.chat_models import ChatOpenAI\n",
        "from langchain_core.messages import HumanMessage\n",
        "\n",
        "model = ChatOpenAI()\n",
        "prompt = [HumanMessage(\"What is the capital of France?\")]\n",
        "\n",
        "model.invoke(prompt)\n"
      ],
      "metadata": {
        "id": "Io1SbBvPVajp",
        "colab": {
          "base_uri": "https://localhost:8080/"
        },
        "outputId": "5cdec141-8ec6-436a-d80c-fb3fd16b4f0a"
      },
      "execution_count": 4,
      "outputs": [
        {
          "output_type": "execute_result",
          "data": {
            "text/plain": [
              "AIMessage(content='The capital of France is Paris.', additional_kwargs={'refusal': None}, response_metadata={'token_usage': {'completion_tokens': 8, 'prompt_tokens': 14, 'total_tokens': 22, 'completion_tokens_details': {'accepted_prediction_tokens': 0, 'audio_tokens': 0, 'reasoning_tokens': 0, 'rejected_prediction_tokens': 0}, 'prompt_tokens_details': {'audio_tokens': 0, 'cached_tokens': 0}}, 'model_name': 'gpt-3.5-turbo-0125', 'system_fingerprint': None, 'finish_reason': 'stop', 'logprobs': None}, id='run-715b2807-035c-4fe4-9982-d2969f96f15c-0', usage_metadata={'input_tokens': 14, 'output_tokens': 8, 'total_tokens': 22, 'input_token_details': {'audio': 0, 'cache_read': 0}, 'output_token_details': {'audio': 0, 'reasoning': 0}})"
            ]
          },
          "metadata": {},
          "execution_count": 4
        }
      ]
    },
    {
      "cell_type": "markdown",
      "source": [
        "코드 1-3 시스템 메시지를 적용한 채팅 모델 호출"
      ],
      "metadata": {
        "id": "BRV5qu1_dWxE"
      }
    },
    {
      "cell_type": "code",
      "source": [
        "from langchain_core.messages import HumanMessage, SystemMessage\n",
        "from langchain_openai.chat_models import ChatOpenAI\n",
        "\n",
        "model = ChatOpenAI()\n",
        "system_msg = SystemMessage(\n",
        "    '''You are a helpful assistant that responds to questions with three\n",
        "        exclamation marks.'''\n",
        ")\n",
        "human_msg = HumanMessage('What is the capital of France?')\n",
        "\n",
        "model.invoke([system_msg, human_msg])"
      ],
      "metadata": {
        "id": "ETXOBlEfVqfv",
        "colab": {
          "base_uri": "https://localhost:8080/"
        },
        "outputId": "29e8b4aa-7cdb-4b78-b0c0-d50f8f540348"
      },
      "execution_count": 5,
      "outputs": [
        {
          "output_type": "execute_result",
          "data": {
            "text/plain": [
              "AIMessage(content='The capital of France is Paris!!!', additional_kwargs={'refusal': None}, response_metadata={'token_usage': {'completion_tokens': 8, 'prompt_tokens': 35, 'total_tokens': 43, 'completion_tokens_details': {'accepted_prediction_tokens': 0, 'audio_tokens': 0, 'reasoning_tokens': 0, 'rejected_prediction_tokens': 0}, 'prompt_tokens_details': {'audio_tokens': 0, 'cached_tokens': 0}}, 'model_name': 'gpt-3.5-turbo-0125', 'system_fingerprint': None, 'finish_reason': 'stop', 'logprobs': None}, id='run-3b57d8ac-151f-4084-b630-1ef7960a7399-0', usage_metadata={'input_tokens': 35, 'output_tokens': 8, 'total_tokens': 43, 'input_token_details': {'audio': 0, 'cache_read': 0}, 'output_token_details': {'audio': 0, 'reasoning': 0}})"
            ]
          },
          "metadata": {},
          "execution_count": 5
        }
      ]
    },
    {
      "cell_type": "markdown",
      "source": [
        "코드 1-4 프롬프트 템플릿 적용"
      ],
      "metadata": {
        "id": "7Ykh3iaxdXb_"
      }
    },
    {
      "cell_type": "code",
      "source": [
        "from langchain_core.prompts import PromptTemplate\n",
        "\n",
        "template = PromptTemplate.from_template(\"\"\"Answer the question based on the\n",
        "    context below. If the question cannot be answered using the information\n",
        "    provided, answer with \"I don't know\".\n",
        "\n",
        "Context: {context}\n",
        "\n",
        "Question: {question}\n",
        "\n",
        "Answer: \"\"\")\n",
        "\n",
        "template.invoke({\n",
        "    \"context\": \"\"\"The most recent advancements in NLP are being driven by Large\n",
        "        Language Models (LLMs). These models outperform their smaller\n",
        "        counterparts and have become invaluable for developers who are creating\n",
        "        applications with NLP capabilities. Developers can tap into these\n",
        "        models through Hugging Face's `transformers` library, or by utilizing\n",
        "        OpenAI and Cohere's offerings through the `openai` and `cohere`\n",
        "        libraries, respectively.\"\"\",\n",
        "    \"question\": \"Which model providers offer LLMs?\"\n",
        "})"
      ],
      "metadata": {
        "id": "bKYQhx1PV8LJ",
        "colab": {
          "base_uri": "https://localhost:8080/"
        },
        "outputId": "d8f0ac91-ca17-42ac-a842-141de0edcea6"
      },
      "execution_count": 6,
      "outputs": [
        {
          "output_type": "execute_result",
          "data": {
            "text/plain": [
              "StringPromptValue(text='Answer the question based on the\\n    context below. If the question cannot be answered using the information\\n    provided, answer with \"I don\\'t know\".\\n\\nContext: The most recent advancements in NLP are being driven by Large\\n        Language Models (LLMs). These models outperform their smaller\\n        counterparts and have become invaluable for developers who are creating\\n        applications with NLP capabilities. Developers can tap into these\\n        models through Hugging Face\\'s `transformers` library, or by utilizing\\n        OpenAI and Cohere\\'s offerings through the `openai` and `cohere`\\n        libraries, respectively.\\n\\nQuestion: Which model providers offer LLMs?\\n\\nAnswer: ')"
            ]
          },
          "metadata": {},
          "execution_count": 6
        }
      ]
    },
    {
      "cell_type": "markdown",
      "source": [
        "코드 1-5 동적 프롬프트"
      ],
      "metadata": {
        "id": "MlQxnEhbdaZg"
      }
    },
    {
      "cell_type": "code",
      "source": [
        "from langchain_openai.llms import OpenAI\n",
        "from langchain_core.prompts import PromptTemplate\n",
        "\n",
        "# both `template` and `model` can be reused many times\n",
        "\n",
        "template = PromptTemplate.from_template(\"\"\"Answer the question based on the\n",
        "    context below. If the question cannot be answered using the information\n",
        "    provided, answer with \"I don't know\".\n",
        "\n",
        "Context: {context}\n",
        "\n",
        "Question: {question}\n",
        "\n",
        "Answer: \"\"\")\n",
        "\n",
        "model = OpenAI()\n",
        "\n",
        "# `prompt` and `completion` are the results of using template and model once\n",
        "\n",
        "prompt = template.invoke({\n",
        "    \"context\": \"\"\"The most recent advancements in NLP are being driven by Large\n",
        "        Language Models (LLMs). These models outperform their smaller\n",
        "        counterparts and have become invaluable for developers who are creating\n",
        "        applications with NLP capabilities. Developers can tap into these\n",
        "        models through Hugging Face's `transformers` library, or by utilizing\n",
        "        OpenAI and Cohere's offerings through the `openai` and `cohere`\n",
        "        libraries, respectively.\"\"\",\n",
        "    \"question\": \"Which model providers offer LLMs?\"\n",
        "})\n",
        "\n",
        "completion = model.invoke(prompt)\n",
        "\n",
        "print(completion)"
      ],
      "metadata": {
        "id": "m-QSw_7qWBb5",
        "colab": {
          "base_uri": "https://localhost:8080/"
        },
        "outputId": "b99268e7-4f64-48ef-9aa8-06358aab71d5"
      },
      "execution_count": 7,
      "outputs": [
        {
          "output_type": "stream",
          "name": "stdout",
          "text": [
            "Hugging Face, OpenAI, Cohere\n"
          ]
        }
      ]
    },
    {
      "cell_type": "markdown",
      "source": [
        "코드 1-6 역할에 따른 동적 프롬프트"
      ],
      "metadata": {
        "id": "BrLuXZVvdbJw"
      }
    },
    {
      "cell_type": "code",
      "source": [
        "from langchain_core.prompts import ChatPromptTemplate\n",
        "template = ChatPromptTemplate.from_messages([\n",
        "    ('system', '''Answer the question based on the context below. If the\n",
        "        question cannot be answered using the information provided, answer with\n",
        "        \"I don\\'t know\".'''),\n",
        "    ('human', 'Context: {context}'),\n",
        "    ('human', 'Question: {question}'),\n",
        "])\n",
        "\n",
        "template.invoke({\n",
        "    \"context\": \"\"\"The most recent advancements in NLP are being driven by Large\n",
        "        Language Models (LLMs). These models outperform their smaller\n",
        "        counterparts and have become invaluable for developers who are creating\n",
        "        applications with NLP capabilities. Developers can tap into these\n",
        "        models through Hugging Face's `transformers` library, or by utilizing\n",
        "        OpenAI and Cohere's offerings through the `openai` and `cohere`\n",
        "        libraries, respectively.\"\"\",\n",
        "    \"question\": \"Which model providers offer LLMs?\"\n",
        "})"
      ],
      "metadata": {
        "id": "j61JdMlIYs5g",
        "colab": {
          "base_uri": "https://localhost:8080/"
        },
        "outputId": "d673ac49-67bd-4dce-dfc3-e1839e4f4af5"
      },
      "execution_count": 8,
      "outputs": [
        {
          "output_type": "execute_result",
          "data": {
            "text/plain": [
              "ChatPromptValue(messages=[SystemMessage(content='Answer the question based on the context below. If the\\n        question cannot be answered using the information provided, answer with\\n        \"I don\\'t know\".', additional_kwargs={}, response_metadata={}), HumanMessage(content=\"Context: The most recent advancements in NLP are being driven by Large\\n        Language Models (LLMs). These models outperform their smaller\\n        counterparts and have become invaluable for developers who are creating\\n        applications with NLP capabilities. Developers can tap into these\\n        models through Hugging Face's `transformers` library, or by utilizing\\n        OpenAI and Cohere's offerings through the `openai` and `cohere`\\n        libraries, respectively.\", additional_kwargs={}, response_metadata={}), HumanMessage(content='Question: Which model providers offer LLMs?', additional_kwargs={}, response_metadata={})])"
            ]
          },
          "metadata": {},
          "execution_count": 8
        }
      ]
    },
    {
      "cell_type": "markdown",
      "source": [
        "코드 1-7 두 개의 동적 프롬프트를 적용한 호출"
      ],
      "metadata": {
        "id": "DUA7YzesdfKZ"
      }
    },
    {
      "cell_type": "code",
      "source": [
        "from langchain_openai.chat_models import ChatOpenAI\n",
        "from langchain_core.prompts import ChatPromptTemplate\n",
        "\n",
        "# both `template` and `model` can be reused many times\n",
        "\n",
        "template = ChatPromptTemplate.from_messages([\n",
        "    ('system', '''Answer the question based on the context below. If the\n",
        "        question cannot be answered using the information provided, answer\n",
        "        with \"I don\\'t know\".'''),\n",
        "    ('human', 'Context: {context}'),\n",
        "    ('human', 'Question: {question}'),\n",
        "])\n",
        "\n",
        "model = ChatOpenAI()\n",
        "\n",
        "# `prompt` and `completion` are the results of using template and model once\n",
        "\n",
        "prompt = template.invoke({\n",
        "    \"context\": \"\"\"The most recent advancements in NLP are being driven by\n",
        "        Large Language Models (LLMs). These models outperform their smaller\n",
        "        counterparts and have become invaluable for developers who are creating\n",
        "        applications with NLP capabilities. Developers can tap into these\n",
        "        models through Hugging Face's `transformers` library, or by utilizing\n",
        "        OpenAI and Cohere's offerings through the `openai` and `cohere`\n",
        "        libraries, respectively.\"\"\",\n",
        "    \"question\": \"Which model providers offer LLMs?\"\n",
        "})\n",
        "\n",
        "model.invoke(prompt)"
      ],
      "metadata": {
        "id": "R3Fw2NciYyBo",
        "colab": {
          "base_uri": "https://localhost:8080/"
        },
        "outputId": "d49885c1-16fa-46a3-cfad-ed5e7e2d9ec9"
      },
      "execution_count": 9,
      "outputs": [
        {
          "output_type": "execute_result",
          "data": {
            "text/plain": [
              "AIMessage(content='OpenAI and Cohere offer Large Language Models (LLMs) through their libraries, `openai` and `cohere`, respectively.', additional_kwargs={'refusal': None}, response_metadata={'token_usage': {'completion_tokens': 29, 'prompt_tokens': 152, 'total_tokens': 181, 'completion_tokens_details': {'accepted_prediction_tokens': 0, 'audio_tokens': 0, 'reasoning_tokens': 0, 'rejected_prediction_tokens': 0}, 'prompt_tokens_details': {'audio_tokens': 0, 'cached_tokens': 0}}, 'model_name': 'gpt-3.5-turbo-0125', 'system_fingerprint': None, 'finish_reason': 'stop', 'logprobs': None}, id='run-00543c0b-1495-464c-96aa-bd8a25786a7a-0', usage_metadata={'input_tokens': 152, 'output_tokens': 29, 'total_tokens': 181, 'input_token_details': {'audio': 0, 'cache_read': 0}, 'output_token_details': {'audio': 0, 'reasoning': 0}})"
            ]
          },
          "metadata": {},
          "execution_count": 9
        }
      ]
    },
    {
      "cell_type": "markdown",
      "source": [
        "코드 1-8 JSON 형식 출력 요청"
      ],
      "metadata": {
        "id": "vIOy2ZlkdqZT"
      }
    },
    {
      "cell_type": "code",
      "source": [
        "from langchain_openai import ChatOpenAI\n",
        "from pydantic import BaseModel\n",
        "\n",
        "class AnswerWithJustification(BaseModel):\n",
        "    '''An answer to the user's question along with justification for the\n",
        "        answer.'''\n",
        "    answer: str\n",
        "    '''The answer to the user's question'''\n",
        "    justification: str\n",
        "    '''Justification for the answer'''\n",
        "\n",
        "llm = ChatOpenAI(model=\"gpt-4o-mini\", temperature=0)\n",
        "structured_llm = llm.with_structured_output(AnswerWithJustification)\n",
        "\n",
        "result = structured_llm.invoke(\"\"\"What weighs more, a pound of bricks or a pound of feathers\"\"\")\n",
        "\n",
        "print(result.model_dump_json())\n"
      ],
      "metadata": {
        "id": "OauUyV58Y1J7",
        "colab": {
          "base_uri": "https://localhost:8080/"
        },
        "outputId": "0d7497aa-f641-4ccc-917b-2574c8677d1e"
      },
      "execution_count": 10,
      "outputs": [
        {
          "output_type": "stream",
          "name": "stdout",
          "text": [
            "{\"answer\":\"A pound of bricks and a pound of feathers weigh the same.\",\"justification\":\"Both are measured as one pound, so regardless of the material, a pound is a pound. The confusion often arises from the volume and density differences; bricks are much denser than feathers, so a pound of bricks takes up less space than a pound of feathers.\"}\n"
          ]
        }
      ]
    },
    {
      "cell_type": "markdown",
      "source": [
        "코드 1-9 랭체인의 CSV 출력 파서"
      ],
      "metadata": {
        "id": "3vcDI_NWdtAG"
      }
    },
    {
      "cell_type": "code",
      "source": [
        "from langchain_core.output_parsers import CommaSeparatedListOutputParser\n",
        "parser = CommaSeparatedListOutputParser()\n",
        "items = parser.invoke(\"apple, banana, cherry\")\n",
        "print(items)"
      ],
      "metadata": {
        "id": "ILAFEr2baCNv",
        "colab": {
          "base_uri": "https://localhost:8080/"
        },
        "outputId": "b000ae45-104b-4c9a-81cf-25809a9f3f1a"
      },
      "execution_count": 11,
      "outputs": [
        {
          "output_type": "stream",
          "name": "stdout",
          "text": [
            "['apple', 'banana', 'cherry']\n"
          ]
        }
      ]
    },
    {
      "cell_type": "markdown",
      "source": [
        "코드 1-10 랭체인의 공통 인터페이스 예시"
      ],
      "metadata": {
        "id": "_bz9AGDYdwXu"
      }
    },
    {
      "cell_type": "code",
      "source": [
        "from langchain_openai.chat_models import ChatOpenAI\n",
        "\n",
        "model = ChatOpenAI()\n",
        "\n",
        "completion = model.invoke('Hi there!')\n",
        "print(completion)\n",
        "\n",
        "completions = model.batch(['Hi there!', 'Bye!'])\n",
        "print(completions)\n",
        "\n",
        "for token in model.stream('Bye!'):\n",
        "    print(token)"
      ],
      "metadata": {
        "id": "U5NphLpYoGv4",
        "colab": {
          "base_uri": "https://localhost:8080/"
        },
        "outputId": "2a07195f-5e00-46b2-8e5f-76ce50d24f31"
      },
      "execution_count": 12,
      "outputs": [
        {
          "output_type": "stream",
          "name": "stdout",
          "text": [
            "content='Hello! How can I assist you today?' additional_kwargs={'refusal': None} response_metadata={'token_usage': {'completion_tokens': 10, 'prompt_tokens': 10, 'total_tokens': 20, 'completion_tokens_details': {'accepted_prediction_tokens': 0, 'audio_tokens': 0, 'reasoning_tokens': 0, 'rejected_prediction_tokens': 0}, 'prompt_tokens_details': {'audio_tokens': 0, 'cached_tokens': 0}}, 'model_name': 'gpt-3.5-turbo-0125', 'system_fingerprint': None, 'finish_reason': 'stop', 'logprobs': None} id='run-524e3f75-c952-4f75-869d-fce286cbd933-0' usage_metadata={'input_tokens': 10, 'output_tokens': 10, 'total_tokens': 20, 'input_token_details': {'audio': 0, 'cache_read': 0}, 'output_token_details': {'audio': 0, 'reasoning': 0}}\n",
            "[AIMessage(content='Hello! How can I assist you today?', additional_kwargs={'refusal': None}, response_metadata={'token_usage': {'completion_tokens': 10, 'prompt_tokens': 10, 'total_tokens': 20, 'completion_tokens_details': {'accepted_prediction_tokens': 0, 'audio_tokens': 0, 'reasoning_tokens': 0, 'rejected_prediction_tokens': 0}, 'prompt_tokens_details': {'audio_tokens': 0, 'cached_tokens': 0}}, 'model_name': 'gpt-3.5-turbo-0125', 'system_fingerprint': None, 'finish_reason': 'stop', 'logprobs': None}, id='run-d6cae568-ac8d-4cb0-aaf2-735a55699a8c-0', usage_metadata={'input_tokens': 10, 'output_tokens': 10, 'total_tokens': 20, 'input_token_details': {'audio': 0, 'cache_read': 0}, 'output_token_details': {'audio': 0, 'reasoning': 0}}), AIMessage(content='Goodbye! Have a great day!', additional_kwargs={'refusal': None}, response_metadata={'token_usage': {'completion_tokens': 9, 'prompt_tokens': 10, 'total_tokens': 19, 'completion_tokens_details': {'accepted_prediction_tokens': 0, 'audio_tokens': 0, 'reasoning_tokens': 0, 'rejected_prediction_tokens': 0}, 'prompt_tokens_details': {'audio_tokens': 0, 'cached_tokens': 0}}, 'model_name': 'gpt-3.5-turbo-0125', 'system_fingerprint': None, 'finish_reason': 'stop', 'logprobs': None}, id='run-9cd7d6ed-8912-4a78-9710-8e0f58995059-0', usage_metadata={'input_tokens': 10, 'output_tokens': 9, 'total_tokens': 19, 'input_token_details': {'audio': 0, 'cache_read': 0}, 'output_token_details': {'audio': 0, 'reasoning': 0}})]\n",
            "content='' additional_kwargs={} response_metadata={} id='run-06dce9e2-8a69-494a-8a85-753dd8780d72'\n",
            "content='Good' additional_kwargs={} response_metadata={} id='run-06dce9e2-8a69-494a-8a85-753dd8780d72'\n",
            "content='bye' additional_kwargs={} response_metadata={} id='run-06dce9e2-8a69-494a-8a85-753dd8780d72'\n",
            "content='!' additional_kwargs={} response_metadata={} id='run-06dce9e2-8a69-494a-8a85-753dd8780d72'\n",
            "content=' Have' additional_kwargs={} response_metadata={} id='run-06dce9e2-8a69-494a-8a85-753dd8780d72'\n",
            "content=' a' additional_kwargs={} response_metadata={} id='run-06dce9e2-8a69-494a-8a85-753dd8780d72'\n",
            "content=' great' additional_kwargs={} response_metadata={} id='run-06dce9e2-8a69-494a-8a85-753dd8780d72'\n",
            "content=' day' additional_kwargs={} response_metadata={} id='run-06dce9e2-8a69-494a-8a85-753dd8780d72'\n",
            "content='!' additional_kwargs={} response_metadata={} id='run-06dce9e2-8a69-494a-8a85-753dd8780d72'\n",
            "content='' additional_kwargs={} response_metadata={'finish_reason': 'stop', 'model_name': 'gpt-3.5-turbo-0125'} id='run-06dce9e2-8a69-494a-8a85-753dd8780d72'\n"
          ]
        }
      ]
    },
    {
      "cell_type": "markdown",
      "source": [
        "코드 1-11 명령형 구성 예시"
      ],
      "metadata": {
        "id": "Ds2Nv5fTd2rM"
      }
    },
    {
      "cell_type": "code",
      "source": [
        "from langchain_openai.chat_models import ChatOpenAI\n",
        "from langchain_core.prompts import ChatPromptTemplate\n",
        "from langchain_core.runnables import chain\n",
        "\n",
        "# the building blocks\n",
        "\n",
        "template = ChatPromptTemplate.from_messages(\n",
        "    [\n",
        "        (\"system\", \"You are a helpful assistant.\"),\n",
        "        (\"human\", \"{question}\"),\n",
        "    ]\n",
        ")\n",
        "\n",
        "model = ChatOpenAI(model=\"gpt-3.5-turbo\")\n",
        "\n",
        "# combine them in a function\n",
        "# dd @chain decorator adds the same Runnable interface for any function you write\n",
        "\n",
        "\n",
        "@chain\n",
        "def chatbot(values):\n",
        "    prompt = template.invoke(values)\n",
        "    return model.invoke(prompt)\n",
        "\n",
        "\n",
        "# use it\n",
        "\n",
        "response = chatbot.invoke({\"question\": \"Which model providers offer LLMs?\"})\n",
        "print(response.content)"
      ],
      "metadata": {
        "id": "avVIXRgfox2M",
        "colab": {
          "base_uri": "https://localhost:8080/"
        },
        "outputId": "0ae18b39-d80f-4f8e-cd55-6bd94b8d6980"
      },
      "execution_count": 13,
      "outputs": [
        {
          "output_type": "stream",
          "name": "stdout",
          "text": [
            "Many prestigious universities offer Master of Laws (LLM) programs. Some well-known institutions that offer LLM programs include Harvard Law School, Yale Law School, Stanford Law School, Columbia Law School, and the University of London. Additionally, many other law schools around the world offer LLM programs in various specialized areas of law. It is advisable to research specific law schools or universities to find out if they offer LLM programs that cater to your specific interests and needs.\n"
          ]
        }
      ]
    },
    {
      "cell_type": "markdown",
      "source": [
        "코드 1-12 명령형 구성을 사용한 스트리밍 호출 예시"
      ],
      "metadata": {
        "id": "u-cN2kSShnzJ"
      }
    },
    {
      "cell_type": "code",
      "source": [
        "@chain\n",
        "def chatbot(values):\n",
        "    prompt = template.invoke(values)\n",
        "    for token in model.stream(prompt):\n",
        "        yield token\n",
        "\n",
        "for part in chatbot.stream({\n",
        "    \"question\": \"Which model providers offer LLMs?\"\n",
        "}):\n",
        "    print(part)\n"
      ],
      "metadata": {
        "id": "ODYoQt4vpgT1",
        "colab": {
          "base_uri": "https://localhost:8080/"
        },
        "outputId": "c250fe0d-bf8f-4be5-a445-2d890f8cb4ed"
      },
      "execution_count": 14,
      "outputs": [
        {
          "output_type": "stream",
          "name": "stdout",
          "text": [
            "content='' additional_kwargs={} response_metadata={} id='run-0b983c52-b4af-47ad-8538-838bb0bdf20a'\n",
            "content='Several' additional_kwargs={} response_metadata={} id='run-0b983c52-b4af-47ad-8538-838bb0bdf20a'\n",
            "content=' reputable' additional_kwargs={} response_metadata={} id='run-0b983c52-b4af-47ad-8538-838bb0bdf20a'\n",
            "content=' institutions' additional_kwargs={} response_metadata={} id='run-0b983c52-b4af-47ad-8538-838bb0bdf20a'\n",
            "content=' around' additional_kwargs={} response_metadata={} id='run-0b983c52-b4af-47ad-8538-838bb0bdf20a'\n",
            "content=' the' additional_kwargs={} response_metadata={} id='run-0b983c52-b4af-47ad-8538-838bb0bdf20a'\n",
            "content=' world' additional_kwargs={} response_metadata={} id='run-0b983c52-b4af-47ad-8538-838bb0bdf20a'\n",
            "content=' offer' additional_kwargs={} response_metadata={} id='run-0b983c52-b4af-47ad-8538-838bb0bdf20a'\n",
            "content=' L' additional_kwargs={} response_metadata={} id='run-0b983c52-b4af-47ad-8538-838bb0bdf20a'\n",
            "content='LM' additional_kwargs={} response_metadata={} id='run-0b983c52-b4af-47ad-8538-838bb0bdf20a'\n",
            "content=' (' additional_kwargs={} response_metadata={} id='run-0b983c52-b4af-47ad-8538-838bb0bdf20a'\n",
            "content='Master' additional_kwargs={} response_metadata={} id='run-0b983c52-b4af-47ad-8538-838bb0bdf20a'\n",
            "content=' of' additional_kwargs={} response_metadata={} id='run-0b983c52-b4af-47ad-8538-838bb0bdf20a'\n",
            "content=' Laws' additional_kwargs={} response_metadata={} id='run-0b983c52-b4af-47ad-8538-838bb0bdf20a'\n",
            "content=')' additional_kwargs={} response_metadata={} id='run-0b983c52-b4af-47ad-8538-838bb0bdf20a'\n",
            "content=' programs' additional_kwargs={} response_metadata={} id='run-0b983c52-b4af-47ad-8538-838bb0bdf20a'\n",
            "content='.' additional_kwargs={} response_metadata={} id='run-0b983c52-b4af-47ad-8538-838bb0bdf20a'\n",
            "content=' Some' additional_kwargs={} response_metadata={} id='run-0b983c52-b4af-47ad-8538-838bb0bdf20a'\n",
            "content=' of' additional_kwargs={} response_metadata={} id='run-0b983c52-b4af-47ad-8538-838bb0bdf20a'\n",
            "content=' the' additional_kwargs={} response_metadata={} id='run-0b983c52-b4af-47ad-8538-838bb0bdf20a'\n",
            "content=' prominent' additional_kwargs={} response_metadata={} id='run-0b983c52-b4af-47ad-8538-838bb0bdf20a'\n",
            "content=' providers' additional_kwargs={} response_metadata={} id='run-0b983c52-b4af-47ad-8538-838bb0bdf20a'\n",
            "content=' include' additional_kwargs={} response_metadata={} id='run-0b983c52-b4af-47ad-8538-838bb0bdf20a'\n",
            "content=':\\n\\n' additional_kwargs={} response_metadata={} id='run-0b983c52-b4af-47ad-8538-838bb0bdf20a'\n",
            "content='1' additional_kwargs={} response_metadata={} id='run-0b983c52-b4af-47ad-8538-838bb0bdf20a'\n",
            "content='.' additional_kwargs={} response_metadata={} id='run-0b983c52-b4af-47ad-8538-838bb0bdf20a'\n",
            "content=' Harvard' additional_kwargs={} response_metadata={} id='run-0b983c52-b4af-47ad-8538-838bb0bdf20a'\n",
            "content=' Law' additional_kwargs={} response_metadata={} id='run-0b983c52-b4af-47ad-8538-838bb0bdf20a'\n",
            "content=' School' additional_kwargs={} response_metadata={} id='run-0b983c52-b4af-47ad-8538-838bb0bdf20a'\n",
            "content=' (' additional_kwargs={} response_metadata={} id='run-0b983c52-b4af-47ad-8538-838bb0bdf20a'\n",
            "content='United' additional_kwargs={} response_metadata={} id='run-0b983c52-b4af-47ad-8538-838bb0bdf20a'\n",
            "content=' States' additional_kwargs={} response_metadata={} id='run-0b983c52-b4af-47ad-8538-838bb0bdf20a'\n",
            "content=')\\n' additional_kwargs={} response_metadata={} id='run-0b983c52-b4af-47ad-8538-838bb0bdf20a'\n",
            "content='2' additional_kwargs={} response_metadata={} id='run-0b983c52-b4af-47ad-8538-838bb0bdf20a'\n",
            "content='.' additional_kwargs={} response_metadata={} id='run-0b983c52-b4af-47ad-8538-838bb0bdf20a'\n",
            "content=' Yale' additional_kwargs={} response_metadata={} id='run-0b983c52-b4af-47ad-8538-838bb0bdf20a'\n",
            "content=' Law' additional_kwargs={} response_metadata={} id='run-0b983c52-b4af-47ad-8538-838bb0bdf20a'\n",
            "content=' School' additional_kwargs={} response_metadata={} id='run-0b983c52-b4af-47ad-8538-838bb0bdf20a'\n",
            "content=' (' additional_kwargs={} response_metadata={} id='run-0b983c52-b4af-47ad-8538-838bb0bdf20a'\n",
            "content='United' additional_kwargs={} response_metadata={} id='run-0b983c52-b4af-47ad-8538-838bb0bdf20a'\n",
            "content=' States' additional_kwargs={} response_metadata={} id='run-0b983c52-b4af-47ad-8538-838bb0bdf20a'\n",
            "content=')\\n' additional_kwargs={} response_metadata={} id='run-0b983c52-b4af-47ad-8538-838bb0bdf20a'\n",
            "content='3' additional_kwargs={} response_metadata={} id='run-0b983c52-b4af-47ad-8538-838bb0bdf20a'\n",
            "content='.' additional_kwargs={} response_metadata={} id='run-0b983c52-b4af-47ad-8538-838bb0bdf20a'\n",
            "content=' University' additional_kwargs={} response_metadata={} id='run-0b983c52-b4af-47ad-8538-838bb0bdf20a'\n",
            "content=' of' additional_kwargs={} response_metadata={} id='run-0b983c52-b4af-47ad-8538-838bb0bdf20a'\n",
            "content=' Cambridge' additional_kwargs={} response_metadata={} id='run-0b983c52-b4af-47ad-8538-838bb0bdf20a'\n",
            "content=' (' additional_kwargs={} response_metadata={} id='run-0b983c52-b4af-47ad-8538-838bb0bdf20a'\n",
            "content='United' additional_kwargs={} response_metadata={} id='run-0b983c52-b4af-47ad-8538-838bb0bdf20a'\n",
            "content=' Kingdom' additional_kwargs={} response_metadata={} id='run-0b983c52-b4af-47ad-8538-838bb0bdf20a'\n",
            "content=')\\n' additional_kwargs={} response_metadata={} id='run-0b983c52-b4af-47ad-8538-838bb0bdf20a'\n",
            "content='4' additional_kwargs={} response_metadata={} id='run-0b983c52-b4af-47ad-8538-838bb0bdf20a'\n",
            "content='.' additional_kwargs={} response_metadata={} id='run-0b983c52-b4af-47ad-8538-838bb0bdf20a'\n",
            "content=' University' additional_kwargs={} response_metadata={} id='run-0b983c52-b4af-47ad-8538-838bb0bdf20a'\n",
            "content=' of' additional_kwargs={} response_metadata={} id='run-0b983c52-b4af-47ad-8538-838bb0bdf20a'\n",
            "content=' Oxford' additional_kwargs={} response_metadata={} id='run-0b983c52-b4af-47ad-8538-838bb0bdf20a'\n",
            "content=' (' additional_kwargs={} response_metadata={} id='run-0b983c52-b4af-47ad-8538-838bb0bdf20a'\n",
            "content='United' additional_kwargs={} response_metadata={} id='run-0b983c52-b4af-47ad-8538-838bb0bdf20a'\n",
            "content=' Kingdom' additional_kwargs={} response_metadata={} id='run-0b983c52-b4af-47ad-8538-838bb0bdf20a'\n",
            "content=')\\n' additional_kwargs={} response_metadata={} id='run-0b983c52-b4af-47ad-8538-838bb0bdf20a'\n",
            "content='5' additional_kwargs={} response_metadata={} id='run-0b983c52-b4af-47ad-8538-838bb0bdf20a'\n",
            "content='.' additional_kwargs={} response_metadata={} id='run-0b983c52-b4af-47ad-8538-838bb0bdf20a'\n",
            "content=' London' additional_kwargs={} response_metadata={} id='run-0b983c52-b4af-47ad-8538-838bb0bdf20a'\n",
            "content=' School' additional_kwargs={} response_metadata={} id='run-0b983c52-b4af-47ad-8538-838bb0bdf20a'\n",
            "content=' of' additional_kwargs={} response_metadata={} id='run-0b983c52-b4af-47ad-8538-838bb0bdf20a'\n",
            "content=' Economics' additional_kwargs={} response_metadata={} id='run-0b983c52-b4af-47ad-8538-838bb0bdf20a'\n",
            "content=' and' additional_kwargs={} response_metadata={} id='run-0b983c52-b4af-47ad-8538-838bb0bdf20a'\n",
            "content=' Political' additional_kwargs={} response_metadata={} id='run-0b983c52-b4af-47ad-8538-838bb0bdf20a'\n",
            "content=' Science' additional_kwargs={} response_metadata={} id='run-0b983c52-b4af-47ad-8538-838bb0bdf20a'\n",
            "content=' (' additional_kwargs={} response_metadata={} id='run-0b983c52-b4af-47ad-8538-838bb0bdf20a'\n",
            "content='United' additional_kwargs={} response_metadata={} id='run-0b983c52-b4af-47ad-8538-838bb0bdf20a'\n",
            "content=' Kingdom' additional_kwargs={} response_metadata={} id='run-0b983c52-b4af-47ad-8538-838bb0bdf20a'\n",
            "content=')\\n' additional_kwargs={} response_metadata={} id='run-0b983c52-b4af-47ad-8538-838bb0bdf20a'\n",
            "content='6' additional_kwargs={} response_metadata={} id='run-0b983c52-b4af-47ad-8538-838bb0bdf20a'\n",
            "content='.' additional_kwargs={} response_metadata={} id='run-0b983c52-b4af-47ad-8538-838bb0bdf20a'\n",
            "content=' University' additional_kwargs={} response_metadata={} id='run-0b983c52-b4af-47ad-8538-838bb0bdf20a'\n",
            "content=' of' additional_kwargs={} response_metadata={} id='run-0b983c52-b4af-47ad-8538-838bb0bdf20a'\n",
            "content=' Melbourne' additional_kwargs={} response_metadata={} id='run-0b983c52-b4af-47ad-8538-838bb0bdf20a'\n",
            "content=' (' additional_kwargs={} response_metadata={} id='run-0b983c52-b4af-47ad-8538-838bb0bdf20a'\n",
            "content='Australia' additional_kwargs={} response_metadata={} id='run-0b983c52-b4af-47ad-8538-838bb0bdf20a'\n",
            "content=')\\n' additional_kwargs={} response_metadata={} id='run-0b983c52-b4af-47ad-8538-838bb0bdf20a'\n",
            "content='7' additional_kwargs={} response_metadata={} id='run-0b983c52-b4af-47ad-8538-838bb0bdf20a'\n",
            "content='.' additional_kwargs={} response_metadata={} id='run-0b983c52-b4af-47ad-8538-838bb0bdf20a'\n",
            "content=' McGill' additional_kwargs={} response_metadata={} id='run-0b983c52-b4af-47ad-8538-838bb0bdf20a'\n",
            "content=' University' additional_kwargs={} response_metadata={} id='run-0b983c52-b4af-47ad-8538-838bb0bdf20a'\n",
            "content=' (' additional_kwargs={} response_metadata={} id='run-0b983c52-b4af-47ad-8538-838bb0bdf20a'\n",
            "content='Canada' additional_kwargs={} response_metadata={} id='run-0b983c52-b4af-47ad-8538-838bb0bdf20a'\n",
            "content=')\\n' additional_kwargs={} response_metadata={} id='run-0b983c52-b4af-47ad-8538-838bb0bdf20a'\n",
            "content='8' additional_kwargs={} response_metadata={} id='run-0b983c52-b4af-47ad-8538-838bb0bdf20a'\n",
            "content='.' additional_kwargs={} response_metadata={} id='run-0b983c52-b4af-47ad-8538-838bb0bdf20a'\n",
            "content=' National' additional_kwargs={} response_metadata={} id='run-0b983c52-b4af-47ad-8538-838bb0bdf20a'\n",
            "content=' University' additional_kwargs={} response_metadata={} id='run-0b983c52-b4af-47ad-8538-838bb0bdf20a'\n",
            "content=' of' additional_kwargs={} response_metadata={} id='run-0b983c52-b4af-47ad-8538-838bb0bdf20a'\n",
            "content=' Singapore' additional_kwargs={} response_metadata={} id='run-0b983c52-b4af-47ad-8538-838bb0bdf20a'\n",
            "content=' (' additional_kwargs={} response_metadata={} id='run-0b983c52-b4af-47ad-8538-838bb0bdf20a'\n",
            "content='Singapore' additional_kwargs={} response_metadata={} id='run-0b983c52-b4af-47ad-8538-838bb0bdf20a'\n",
            "content=')\\n' additional_kwargs={} response_metadata={} id='run-0b983c52-b4af-47ad-8538-838bb0bdf20a'\n",
            "content='9' additional_kwargs={} response_metadata={} id='run-0b983c52-b4af-47ad-8538-838bb0bdf20a'\n",
            "content='.' additional_kwargs={} response_metadata={} id='run-0b983c52-b4af-47ad-8538-838bb0bdf20a'\n",
            "content=' University' additional_kwargs={} response_metadata={} id='run-0b983c52-b4af-47ad-8538-838bb0bdf20a'\n",
            "content=' of' additional_kwargs={} response_metadata={} id='run-0b983c52-b4af-47ad-8538-838bb0bdf20a'\n",
            "content=' Hong' additional_kwargs={} response_metadata={} id='run-0b983c52-b4af-47ad-8538-838bb0bdf20a'\n",
            "content=' Kong' additional_kwargs={} response_metadata={} id='run-0b983c52-b4af-47ad-8538-838bb0bdf20a'\n",
            "content=' (' additional_kwargs={} response_metadata={} id='run-0b983c52-b4af-47ad-8538-838bb0bdf20a'\n",
            "content='Hong' additional_kwargs={} response_metadata={} id='run-0b983c52-b4af-47ad-8538-838bb0bdf20a'\n",
            "content=' Kong' additional_kwargs={} response_metadata={} id='run-0b983c52-b4af-47ad-8538-838bb0bdf20a'\n",
            "content=')\\n' additional_kwargs={} response_metadata={} id='run-0b983c52-b4af-47ad-8538-838bb0bdf20a'\n",
            "content='10' additional_kwargs={} response_metadata={} id='run-0b983c52-b4af-47ad-8538-838bb0bdf20a'\n",
            "content='.' additional_kwargs={} response_metadata={} id='run-0b983c52-b4af-47ad-8538-838bb0bdf20a'\n",
            "content=' University' additional_kwargs={} response_metadata={} id='run-0b983c52-b4af-47ad-8538-838bb0bdf20a'\n",
            "content=' of' additional_kwargs={} response_metadata={} id='run-0b983c52-b4af-47ad-8538-838bb0bdf20a'\n",
            "content=' Tokyo' additional_kwargs={} response_metadata={} id='run-0b983c52-b4af-47ad-8538-838bb0bdf20a'\n",
            "content=' (' additional_kwargs={} response_metadata={} id='run-0b983c52-b4af-47ad-8538-838bb0bdf20a'\n",
            "content='Japan' additional_kwargs={} response_metadata={} id='run-0b983c52-b4af-47ad-8538-838bb0bdf20a'\n",
            "content=')\\n\\n' additional_kwargs={} response_metadata={} id='run-0b983c52-b4af-47ad-8538-838bb0bdf20a'\n",
            "content='These' additional_kwargs={} response_metadata={} id='run-0b983c52-b4af-47ad-8538-838bb0bdf20a'\n",
            "content=' are' additional_kwargs={} response_metadata={} id='run-0b983c52-b4af-47ad-8538-838bb0bdf20a'\n",
            "content=' just' additional_kwargs={} response_metadata={} id='run-0b983c52-b4af-47ad-8538-838bb0bdf20a'\n",
            "content=' a' additional_kwargs={} response_metadata={} id='run-0b983c52-b4af-47ad-8538-838bb0bdf20a'\n",
            "content=' few' additional_kwargs={} response_metadata={} id='run-0b983c52-b4af-47ad-8538-838bb0bdf20a'\n",
            "content=' examples' additional_kwargs={} response_metadata={} id='run-0b983c52-b4af-47ad-8538-838bb0bdf20a'\n",
            "content=' of' additional_kwargs={} response_metadata={} id='run-0b983c52-b4af-47ad-8538-838bb0bdf20a'\n",
            "content=' institutions' additional_kwargs={} response_metadata={} id='run-0b983c52-b4af-47ad-8538-838bb0bdf20a'\n",
            "content=' that' additional_kwargs={} response_metadata={} id='run-0b983c52-b4af-47ad-8538-838bb0bdf20a'\n",
            "content=' offer' additional_kwargs={} response_metadata={} id='run-0b983c52-b4af-47ad-8538-838bb0bdf20a'\n",
            "content=' L' additional_kwargs={} response_metadata={} id='run-0b983c52-b4af-47ad-8538-838bb0bdf20a'\n",
            "content='LM' additional_kwargs={} response_metadata={} id='run-0b983c52-b4af-47ad-8538-838bb0bdf20a'\n",
            "content=' programs' additional_kwargs={} response_metadata={} id='run-0b983c52-b4af-47ad-8538-838bb0bdf20a'\n",
            "content='.' additional_kwargs={} response_metadata={} id='run-0b983c52-b4af-47ad-8538-838bb0bdf20a'\n",
            "content=' It' additional_kwargs={} response_metadata={} id='run-0b983c52-b4af-47ad-8538-838bb0bdf20a'\n",
            "content=' is' additional_kwargs={} response_metadata={} id='run-0b983c52-b4af-47ad-8538-838bb0bdf20a'\n",
            "content=' essential' additional_kwargs={} response_metadata={} id='run-0b983c52-b4af-47ad-8538-838bb0bdf20a'\n",
            "content=' to' additional_kwargs={} response_metadata={} id='run-0b983c52-b4af-47ad-8538-838bb0bdf20a'\n",
            "content=' research' additional_kwargs={} response_metadata={} id='run-0b983c52-b4af-47ad-8538-838bb0bdf20a'\n",
            "content=' each' additional_kwargs={} response_metadata={} id='run-0b983c52-b4af-47ad-8538-838bb0bdf20a'\n",
            "content=' program' additional_kwargs={} response_metadata={} id='run-0b983c52-b4af-47ad-8538-838bb0bdf20a'\n",
            "content=' carefully' additional_kwargs={} response_metadata={} id='run-0b983c52-b4af-47ad-8538-838bb0bdf20a'\n",
            "content=' to' additional_kwargs={} response_metadata={} id='run-0b983c52-b4af-47ad-8538-838bb0bdf20a'\n",
            "content=' determine' additional_kwargs={} response_metadata={} id='run-0b983c52-b4af-47ad-8538-838bb0bdf20a'\n",
            "content=' which' additional_kwargs={} response_metadata={} id='run-0b983c52-b4af-47ad-8538-838bb0bdf20a'\n",
            "content=' one' additional_kwargs={} response_metadata={} id='run-0b983c52-b4af-47ad-8538-838bb0bdf20a'\n",
            "content=' align' additional_kwargs={} response_metadata={} id='run-0b983c52-b4af-47ad-8538-838bb0bdf20a'\n",
            "content='s' additional_kwargs={} response_metadata={} id='run-0b983c52-b4af-47ad-8538-838bb0bdf20a'\n",
            "content=' best' additional_kwargs={} response_metadata={} id='run-0b983c52-b4af-47ad-8538-838bb0bdf20a'\n",
            "content=' with' additional_kwargs={} response_metadata={} id='run-0b983c52-b4af-47ad-8538-838bb0bdf20a'\n",
            "content=' your' additional_kwargs={} response_metadata={} id='run-0b983c52-b4af-47ad-8538-838bb0bdf20a'\n",
            "content=' academic' additional_kwargs={} response_metadata={} id='run-0b983c52-b4af-47ad-8538-838bb0bdf20a'\n",
            "content=' and' additional_kwargs={} response_metadata={} id='run-0b983c52-b4af-47ad-8538-838bb0bdf20a'\n",
            "content=' career' additional_kwargs={} response_metadata={} id='run-0b983c52-b4af-47ad-8538-838bb0bdf20a'\n",
            "content=' goals' additional_kwargs={} response_metadata={} id='run-0b983c52-b4af-47ad-8538-838bb0bdf20a'\n",
            "content='.' additional_kwargs={} response_metadata={} id='run-0b983c52-b4af-47ad-8538-838bb0bdf20a'\n",
            "content='' additional_kwargs={} response_metadata={'finish_reason': 'stop', 'model_name': 'gpt-3.5-turbo-0125'} id='run-0b983c52-b4af-47ad-8538-838bb0bdf20a'\n"
          ]
        }
      ]
    },
    {
      "cell_type": "markdown",
      "source": [
        "코드 1-13 명령형 구성을 사용한 비동기 실행"
      ],
      "metadata": {
        "id": "znAc8GK2iMmG"
      }
    },
    {
      "cell_type": "code",
      "source": [
        "@chain\n",
        "async def chatbot(values):\n",
        "    prompt = await template.ainvoke(values)\n",
        "    return await model.ainvoke(prompt)\n",
        "\n",
        "await chatbot.ainvoke({\"question\": \"Which model providers offer LLMs?\"})\n"
      ],
      "metadata": {
        "id": "z0txrqFspjO3",
        "colab": {
          "base_uri": "https://localhost:8080/"
        },
        "outputId": "df049659-5f9c-405f-d234-13e78bd853b8"
      },
      "execution_count": 15,
      "outputs": [
        {
          "output_type": "execute_result",
          "data": {
            "text/plain": [
              "AIMessage(content=\"Several educational institutions and universities around the world offer Master of Laws (LLM) programs. Some well-known institutions include:\\n\\n1. Harvard Law School\\n2. Yale Law School\\n3. Stanford Law School\\n4. University of Cambridge\\n5. University of Oxford\\n6. New York University School of Law\\n7. London School of Economics and Political Science (LSE)\\n8. University of California, Berkeley\\n9. University of Toronto Faculty of Law\\n10. University of Melbourne Law School\\n\\nThese are just a few examples of institutions that offer LLM programs. It's essential to research each program's specific requirements and offerings to find the best fit for your academic and career goals.\", additional_kwargs={'refusal': None}, response_metadata={'token_usage': {'completion_tokens': 140, 'prompt_tokens': 25, 'total_tokens': 165, 'completion_tokens_details': {'accepted_prediction_tokens': 0, 'audio_tokens': 0, 'reasoning_tokens': 0, 'rejected_prediction_tokens': 0}, 'prompt_tokens_details': {'audio_tokens': 0, 'cached_tokens': 0}}, 'model_name': 'gpt-3.5-turbo-0125', 'system_fingerprint': None, 'finish_reason': 'stop', 'logprobs': None}, id='run-1f110346-9c4d-4a52-b734-5612f368b87b-0', usage_metadata={'input_tokens': 25, 'output_tokens': 140, 'total_tokens': 165, 'input_token_details': {'audio': 0, 'cache_read': 0}, 'output_token_details': {'audio': 0, 'reasoning': 0}})"
            ]
          },
          "metadata": {},
          "execution_count": 15
        }
      ]
    },
    {
      "cell_type": "markdown",
      "source": [
        "코드 1-14 선언형 구성 예시"
      ],
      "metadata": {
        "id": "kLihci_uiQOi"
      }
    },
    {
      "cell_type": "code",
      "source": [
        "from langchain_openai.chat_models import ChatOpenAI\n",
        "from langchain_core.prompts import ChatPromptTemplate\n",
        "\n",
        "# the building blocks\n",
        "\n",
        "template = ChatPromptTemplate.from_messages(\n",
        "    [\n",
        "        (\"system\", \"You are a helpful assistant.\"),\n",
        "        (\"human\", \"{question}\"),\n",
        "    ]\n",
        ")\n",
        "\n",
        "model = ChatOpenAI()\n",
        "\n",
        "# combine them with the | operator\n",
        "\n",
        "chatbot = template | model\n",
        "\n",
        "# use it\n",
        "\n",
        "response = chatbot.invoke({\"question\": \"Which model providers offer LLMs?\"})\n",
        "print(response.content)\n",
        "\n",
        "# streaming\n",
        "\n",
        "for part in chatbot.stream({\"question\": \"Which model providers offer LLMs?\"}):\n",
        "    print(part)"
      ],
      "metadata": {
        "id": "7j_O_j1xpth4",
        "colab": {
          "base_uri": "https://localhost:8080/"
        },
        "outputId": "e1217b15-990f-4abf-f8ef-542f07ac41a2"
      },
      "execution_count": 16,
      "outputs": [
        {
          "output_type": "stream",
          "name": "stdout",
          "text": [
            "There are many reputable institutions that offer LLM (Master of Laws) programs. Some well-known institutions offering LLM programs include:\n",
            "\n",
            "1. Harvard Law School\n",
            "2. Yale Law School\n",
            "3. Stanford Law School\n",
            "4. Columbia Law School\n",
            "5. University of Cambridge\n",
            "6. University of Oxford\n",
            "7. New York University School of Law\n",
            "8. University of California, Berkeley School of Law\n",
            "9. London School of Economics and Political Science (LSE)\n",
            "10. University of Chicago Law School\n",
            "\n",
            "These are just a few examples, and there are many other institutions around the world that offer LLM programs. It's important to research and carefully consider each program's curriculum, faculty, reputation, and other factors to find the best fit for your academic and career goals.\n",
            "content='' additional_kwargs={} response_metadata={} id='run-9a186e55-4609-4a9b-bcd9-b33281d6748f'\n",
            "content='There' additional_kwargs={} response_metadata={} id='run-9a186e55-4609-4a9b-bcd9-b33281d6748f'\n",
            "content=' are' additional_kwargs={} response_metadata={} id='run-9a186e55-4609-4a9b-bcd9-b33281d6748f'\n",
            "content=' several' additional_kwargs={} response_metadata={} id='run-9a186e55-4609-4a9b-bcd9-b33281d6748f'\n",
            "content=' legal' additional_kwargs={} response_metadata={} id='run-9a186e55-4609-4a9b-bcd9-b33281d6748f'\n",
            "content=' services' additional_kwargs={} response_metadata={} id='run-9a186e55-4609-4a9b-bcd9-b33281d6748f'\n",
            "content=' providers' additional_kwargs={} response_metadata={} id='run-9a186e55-4609-4a9b-bcd9-b33281d6748f'\n",
            "content=' and' additional_kwargs={} response_metadata={} id='run-9a186e55-4609-4a9b-bcd9-b33281d6748f'\n",
            "content=' universities' additional_kwargs={} response_metadata={} id='run-9a186e55-4609-4a9b-bcd9-b33281d6748f'\n",
            "content=' that' additional_kwargs={} response_metadata={} id='run-9a186e55-4609-4a9b-bcd9-b33281d6748f'\n",
            "content=' offer' additional_kwargs={} response_metadata={} id='run-9a186e55-4609-4a9b-bcd9-b33281d6748f'\n",
            "content=' L' additional_kwargs={} response_metadata={} id='run-9a186e55-4609-4a9b-bcd9-b33281d6748f'\n",
            "content='LM' additional_kwargs={} response_metadata={} id='run-9a186e55-4609-4a9b-bcd9-b33281d6748f'\n",
            "content=' (' additional_kwargs={} response_metadata={} id='run-9a186e55-4609-4a9b-bcd9-b33281d6748f'\n",
            "content='Master' additional_kwargs={} response_metadata={} id='run-9a186e55-4609-4a9b-bcd9-b33281d6748f'\n",
            "content=' of' additional_kwargs={} response_metadata={} id='run-9a186e55-4609-4a9b-bcd9-b33281d6748f'\n",
            "content=' Laws' additional_kwargs={} response_metadata={} id='run-9a186e55-4609-4a9b-bcd9-b33281d6748f'\n",
            "content=')' additional_kwargs={} response_metadata={} id='run-9a186e55-4609-4a9b-bcd9-b33281d6748f'\n",
            "content=' programs' additional_kwargs={} response_metadata={} id='run-9a186e55-4609-4a9b-bcd9-b33281d6748f'\n",
            "content='.' additional_kwargs={} response_metadata={} id='run-9a186e55-4609-4a9b-bcd9-b33281d6748f'\n",
            "content=' Here' additional_kwargs={} response_metadata={} id='run-9a186e55-4609-4a9b-bcd9-b33281d6748f'\n",
            "content=' are' additional_kwargs={} response_metadata={} id='run-9a186e55-4609-4a9b-bcd9-b33281d6748f'\n",
            "content=' some' additional_kwargs={} response_metadata={} id='run-9a186e55-4609-4a9b-bcd9-b33281d6748f'\n",
            "content=' popular' additional_kwargs={} response_metadata={} id='run-9a186e55-4609-4a9b-bcd9-b33281d6748f'\n",
            "content=' ones' additional_kwargs={} response_metadata={} id='run-9a186e55-4609-4a9b-bcd9-b33281d6748f'\n",
            "content=':\\n\\n' additional_kwargs={} response_metadata={} id='run-9a186e55-4609-4a9b-bcd9-b33281d6748f'\n",
            "content='1' additional_kwargs={} response_metadata={} id='run-9a186e55-4609-4a9b-bcd9-b33281d6748f'\n",
            "content='.' additional_kwargs={} response_metadata={} id='run-9a186e55-4609-4a9b-bcd9-b33281d6748f'\n",
            "content=' University' additional_kwargs={} response_metadata={} id='run-9a186e55-4609-4a9b-bcd9-b33281d6748f'\n",
            "content=' of' additional_kwargs={} response_metadata={} id='run-9a186e55-4609-4a9b-bcd9-b33281d6748f'\n",
            "content=' Cambridge' additional_kwargs={} response_metadata={} id='run-9a186e55-4609-4a9b-bcd9-b33281d6748f'\n",
            "content='\\n' additional_kwargs={} response_metadata={} id='run-9a186e55-4609-4a9b-bcd9-b33281d6748f'\n",
            "content='2' additional_kwargs={} response_metadata={} id='run-9a186e55-4609-4a9b-bcd9-b33281d6748f'\n",
            "content='.' additional_kwargs={} response_metadata={} id='run-9a186e55-4609-4a9b-bcd9-b33281d6748f'\n",
            "content=' Harvard' additional_kwargs={} response_metadata={} id='run-9a186e55-4609-4a9b-bcd9-b33281d6748f'\n",
            "content=' Law' additional_kwargs={} response_metadata={} id='run-9a186e55-4609-4a9b-bcd9-b33281d6748f'\n",
            "content=' School' additional_kwargs={} response_metadata={} id='run-9a186e55-4609-4a9b-bcd9-b33281d6748f'\n",
            "content='\\n' additional_kwargs={} response_metadata={} id='run-9a186e55-4609-4a9b-bcd9-b33281d6748f'\n",
            "content='3' additional_kwargs={} response_metadata={} id='run-9a186e55-4609-4a9b-bcd9-b33281d6748f'\n",
            "content='.' additional_kwargs={} response_metadata={} id='run-9a186e55-4609-4a9b-bcd9-b33281d6748f'\n",
            "content=' New' additional_kwargs={} response_metadata={} id='run-9a186e55-4609-4a9b-bcd9-b33281d6748f'\n",
            "content=' York' additional_kwargs={} response_metadata={} id='run-9a186e55-4609-4a9b-bcd9-b33281d6748f'\n",
            "content=' University' additional_kwargs={} response_metadata={} id='run-9a186e55-4609-4a9b-bcd9-b33281d6748f'\n",
            "content=' (' additional_kwargs={} response_metadata={} id='run-9a186e55-4609-4a9b-bcd9-b33281d6748f'\n",
            "content='NY' additional_kwargs={} response_metadata={} id='run-9a186e55-4609-4a9b-bcd9-b33281d6748f'\n",
            "content='U' additional_kwargs={} response_metadata={} id='run-9a186e55-4609-4a9b-bcd9-b33281d6748f'\n",
            "content=')' additional_kwargs={} response_metadata={} id='run-9a186e55-4609-4a9b-bcd9-b33281d6748f'\n",
            "content=' School' additional_kwargs={} response_metadata={} id='run-9a186e55-4609-4a9b-bcd9-b33281d6748f'\n",
            "content=' of' additional_kwargs={} response_metadata={} id='run-9a186e55-4609-4a9b-bcd9-b33281d6748f'\n",
            "content=' Law' additional_kwargs={} response_metadata={} id='run-9a186e55-4609-4a9b-bcd9-b33281d6748f'\n",
            "content='\\n' additional_kwargs={} response_metadata={} id='run-9a186e55-4609-4a9b-bcd9-b33281d6748f'\n",
            "content='4' additional_kwargs={} response_metadata={} id='run-9a186e55-4609-4a9b-bcd9-b33281d6748f'\n",
            "content='.' additional_kwargs={} response_metadata={} id='run-9a186e55-4609-4a9b-bcd9-b33281d6748f'\n",
            "content=' Stanford' additional_kwargs={} response_metadata={} id='run-9a186e55-4609-4a9b-bcd9-b33281d6748f'\n",
            "content=' Law' additional_kwargs={} response_metadata={} id='run-9a186e55-4609-4a9b-bcd9-b33281d6748f'\n",
            "content=' School' additional_kwargs={} response_metadata={} id='run-9a186e55-4609-4a9b-bcd9-b33281d6748f'\n",
            "content='\\n' additional_kwargs={} response_metadata={} id='run-9a186e55-4609-4a9b-bcd9-b33281d6748f'\n",
            "content='5' additional_kwargs={} response_metadata={} id='run-9a186e55-4609-4a9b-bcd9-b33281d6748f'\n",
            "content='.' additional_kwargs={} response_metadata={} id='run-9a186e55-4609-4a9b-bcd9-b33281d6748f'\n",
            "content=' University' additional_kwargs={} response_metadata={} id='run-9a186e55-4609-4a9b-bcd9-b33281d6748f'\n",
            "content=' of' additional_kwargs={} response_metadata={} id='run-9a186e55-4609-4a9b-bcd9-b33281d6748f'\n",
            "content=' Oxford' additional_kwargs={} response_metadata={} id='run-9a186e55-4609-4a9b-bcd9-b33281d6748f'\n",
            "content='\\n' additional_kwargs={} response_metadata={} id='run-9a186e55-4609-4a9b-bcd9-b33281d6748f'\n",
            "content='6' additional_kwargs={} response_metadata={} id='run-9a186e55-4609-4a9b-bcd9-b33281d6748f'\n",
            "content='.' additional_kwargs={} response_metadata={} id='run-9a186e55-4609-4a9b-bcd9-b33281d6748f'\n",
            "content=' Yale' additional_kwargs={} response_metadata={} id='run-9a186e55-4609-4a9b-bcd9-b33281d6748f'\n",
            "content=' Law' additional_kwargs={} response_metadata={} id='run-9a186e55-4609-4a9b-bcd9-b33281d6748f'\n",
            "content=' School' additional_kwargs={} response_metadata={} id='run-9a186e55-4609-4a9b-bcd9-b33281d6748f'\n",
            "content='\\n' additional_kwargs={} response_metadata={} id='run-9a186e55-4609-4a9b-bcd9-b33281d6748f'\n",
            "content='7' additional_kwargs={} response_metadata={} id='run-9a186e55-4609-4a9b-bcd9-b33281d6748f'\n",
            "content='.' additional_kwargs={} response_metadata={} id='run-9a186e55-4609-4a9b-bcd9-b33281d6748f'\n",
            "content=' University' additional_kwargs={} response_metadata={} id='run-9a186e55-4609-4a9b-bcd9-b33281d6748f'\n",
            "content=' of' additional_kwargs={} response_metadata={} id='run-9a186e55-4609-4a9b-bcd9-b33281d6748f'\n",
            "content=' California' additional_kwargs={} response_metadata={} id='run-9a186e55-4609-4a9b-bcd9-b33281d6748f'\n",
            "content=',' additional_kwargs={} response_metadata={} id='run-9a186e55-4609-4a9b-bcd9-b33281d6748f'\n",
            "content=' Berkeley' additional_kwargs={} response_metadata={} id='run-9a186e55-4609-4a9b-bcd9-b33281d6748f'\n",
            "content=' (' additional_kwargs={} response_metadata={} id='run-9a186e55-4609-4a9b-bcd9-b33281d6748f'\n",
            "content='UC' additional_kwargs={} response_metadata={} id='run-9a186e55-4609-4a9b-bcd9-b33281d6748f'\n",
            "content=' Berkeley' additional_kwargs={} response_metadata={} id='run-9a186e55-4609-4a9b-bcd9-b33281d6748f'\n",
            "content=')' additional_kwargs={} response_metadata={} id='run-9a186e55-4609-4a9b-bcd9-b33281d6748f'\n",
            "content=' School' additional_kwargs={} response_metadata={} id='run-9a186e55-4609-4a9b-bcd9-b33281d6748f'\n",
            "content=' of' additional_kwargs={} response_metadata={} id='run-9a186e55-4609-4a9b-bcd9-b33281d6748f'\n",
            "content=' Law' additional_kwargs={} response_metadata={} id='run-9a186e55-4609-4a9b-bcd9-b33281d6748f'\n",
            "content='\\n' additional_kwargs={} response_metadata={} id='run-9a186e55-4609-4a9b-bcd9-b33281d6748f'\n",
            "content='8' additional_kwargs={} response_metadata={} id='run-9a186e55-4609-4a9b-bcd9-b33281d6748f'\n",
            "content='.' additional_kwargs={} response_metadata={} id='run-9a186e55-4609-4a9b-bcd9-b33281d6748f'\n",
            "content=' Columbia' additional_kwargs={} response_metadata={} id='run-9a186e55-4609-4a9b-bcd9-b33281d6748f'\n",
            "content=' Law' additional_kwargs={} response_metadata={} id='run-9a186e55-4609-4a9b-bcd9-b33281d6748f'\n",
            "content=' School' additional_kwargs={} response_metadata={} id='run-9a186e55-4609-4a9b-bcd9-b33281d6748f'\n",
            "content='\\n' additional_kwargs={} response_metadata={} id='run-9a186e55-4609-4a9b-bcd9-b33281d6748f'\n",
            "content='9' additional_kwargs={} response_metadata={} id='run-9a186e55-4609-4a9b-bcd9-b33281d6748f'\n",
            "content='.' additional_kwargs={} response_metadata={} id='run-9a186e55-4609-4a9b-bcd9-b33281d6748f'\n",
            "content=' Georgetown' additional_kwargs={} response_metadata={} id='run-9a186e55-4609-4a9b-bcd9-b33281d6748f'\n",
            "content=' University' additional_kwargs={} response_metadata={} id='run-9a186e55-4609-4a9b-bcd9-b33281d6748f'\n",
            "content=' Law' additional_kwargs={} response_metadata={} id='run-9a186e55-4609-4a9b-bcd9-b33281d6748f'\n",
            "content=' Center' additional_kwargs={} response_metadata={} id='run-9a186e55-4609-4a9b-bcd9-b33281d6748f'\n",
            "content='\\n' additional_kwargs={} response_metadata={} id='run-9a186e55-4609-4a9b-bcd9-b33281d6748f'\n",
            "content='10' additional_kwargs={} response_metadata={} id='run-9a186e55-4609-4a9b-bcd9-b33281d6748f'\n",
            "content='.' additional_kwargs={} response_metadata={} id='run-9a186e55-4609-4a9b-bcd9-b33281d6748f'\n",
            "content=' University' additional_kwargs={} response_metadata={} id='run-9a186e55-4609-4a9b-bcd9-b33281d6748f'\n",
            "content=' of' additional_kwargs={} response_metadata={} id='run-9a186e55-4609-4a9b-bcd9-b33281d6748f'\n",
            "content=' Michigan' additional_kwargs={} response_metadata={} id='run-9a186e55-4609-4a9b-bcd9-b33281d6748f'\n",
            "content=' Law' additional_kwargs={} response_metadata={} id='run-9a186e55-4609-4a9b-bcd9-b33281d6748f'\n",
            "content=' School' additional_kwargs={} response_metadata={} id='run-9a186e55-4609-4a9b-bcd9-b33281d6748f'\n",
            "content='\\n\\n' additional_kwargs={} response_metadata={} id='run-9a186e55-4609-4a9b-bcd9-b33281d6748f'\n",
            "content='These' additional_kwargs={} response_metadata={} id='run-9a186e55-4609-4a9b-bcd9-b33281d6748f'\n",
            "content=' institutions' additional_kwargs={} response_metadata={} id='run-9a186e55-4609-4a9b-bcd9-b33281d6748f'\n",
            "content=' offer' additional_kwargs={} response_metadata={} id='run-9a186e55-4609-4a9b-bcd9-b33281d6748f'\n",
            "content=' a' additional_kwargs={} response_metadata={} id='run-9a186e55-4609-4a9b-bcd9-b33281d6748f'\n",
            "content=' variety' additional_kwargs={} response_metadata={} id='run-9a186e55-4609-4a9b-bcd9-b33281d6748f'\n",
            "content=' of' additional_kwargs={} response_metadata={} id='run-9a186e55-4609-4a9b-bcd9-b33281d6748f'\n",
            "content=' L' additional_kwargs={} response_metadata={} id='run-9a186e55-4609-4a9b-bcd9-b33281d6748f'\n",
            "content='LM' additional_kwargs={} response_metadata={} id='run-9a186e55-4609-4a9b-bcd9-b33281d6748f'\n",
            "content=' special' additional_kwargs={} response_metadata={} id='run-9a186e55-4609-4a9b-bcd9-b33281d6748f'\n",
            "content='izations' additional_kwargs={} response_metadata={} id='run-9a186e55-4609-4a9b-bcd9-b33281d6748f'\n",
            "content=' and' additional_kwargs={} response_metadata={} id='run-9a186e55-4609-4a9b-bcd9-b33281d6748f'\n",
            "content=' programs' additional_kwargs={} response_metadata={} id='run-9a186e55-4609-4a9b-bcd9-b33281d6748f'\n",
            "content=' for' additional_kwargs={} response_metadata={} id='run-9a186e55-4609-4a9b-bcd9-b33281d6748f'\n",
            "content=' law' additional_kwargs={} response_metadata={} id='run-9a186e55-4609-4a9b-bcd9-b33281d6748f'\n",
            "content=' students' additional_kwargs={} response_metadata={} id='run-9a186e55-4609-4a9b-bcd9-b33281d6748f'\n",
            "content=' and' additional_kwargs={} response_metadata={} id='run-9a186e55-4609-4a9b-bcd9-b33281d6748f'\n",
            "content=' legal' additional_kwargs={} response_metadata={} id='run-9a186e55-4609-4a9b-bcd9-b33281d6748f'\n",
            "content=' professionals' additional_kwargs={} response_metadata={} id='run-9a186e55-4609-4a9b-bcd9-b33281d6748f'\n",
            "content=' looking' additional_kwargs={} response_metadata={} id='run-9a186e55-4609-4a9b-bcd9-b33281d6748f'\n",
            "content=' to' additional_kwargs={} response_metadata={} id='run-9a186e55-4609-4a9b-bcd9-b33281d6748f'\n",
            "content=' further' additional_kwargs={} response_metadata={} id='run-9a186e55-4609-4a9b-bcd9-b33281d6748f'\n",
            "content=' their' additional_kwargs={} response_metadata={} id='run-9a186e55-4609-4a9b-bcd9-b33281d6748f'\n",
            "content=' education' additional_kwargs={} response_metadata={} id='run-9a186e55-4609-4a9b-bcd9-b33281d6748f'\n",
            "content=' in' additional_kwargs={} response_metadata={} id='run-9a186e55-4609-4a9b-bcd9-b33281d6748f'\n",
            "content=' a' additional_kwargs={} response_metadata={} id='run-9a186e55-4609-4a9b-bcd9-b33281d6748f'\n",
            "content=' specific' additional_kwargs={} response_metadata={} id='run-9a186e55-4609-4a9b-bcd9-b33281d6748f'\n",
            "content=' area' additional_kwargs={} response_metadata={} id='run-9a186e55-4609-4a9b-bcd9-b33281d6748f'\n",
            "content=' of' additional_kwargs={} response_metadata={} id='run-9a186e55-4609-4a9b-bcd9-b33281d6748f'\n",
            "content=' law' additional_kwargs={} response_metadata={} id='run-9a186e55-4609-4a9b-bcd9-b33281d6748f'\n",
            "content='.' additional_kwargs={} response_metadata={} id='run-9a186e55-4609-4a9b-bcd9-b33281d6748f'\n",
            "content='' additional_kwargs={} response_metadata={'finish_reason': 'stop', 'model_name': 'gpt-3.5-turbo-0125'} id='run-9a186e55-4609-4a9b-bcd9-b33281d6748f'\n"
          ]
        }
      ]
    },
    {
      "cell_type": "markdown",
      "source": [
        "코드 1-15 선언형 구성을 사용한 스트리밍 호출 예시"
      ],
      "metadata": {
        "id": "_Rw1TlKCiheL"
      }
    },
    {
      "cell_type": "code",
      "source": [
        "chatbot = template | model\n",
        "\n",
        "for part in chatbot.stream({\n",
        "    \"question\": \"Which model providers offer LLMs?\"\n",
        "}):\n",
        "    print(part)\n",
        "    # > AIMessageChunk(content=\"Hugging\")\n",
        "    # > AIMessageChunk(content=\" Face's\")\n",
        "    # > AIMessageChunk(content=\" `transformers`\")\n",
        "    # ...\n"
      ],
      "metadata": {
        "colab": {
          "base_uri": "https://localhost:8080/"
        },
        "id": "8FdfEjV_iie2",
        "outputId": "79b8411d-748a-4dd0-d1d2-03dee2c84b4f"
      },
      "execution_count": 17,
      "outputs": [
        {
          "output_type": "stream",
          "name": "stdout",
          "text": [
            "content='' additional_kwargs={} response_metadata={} id='run-48007446-ec07-431d-8c40-a47169e133a6'\n",
            "content='There' additional_kwargs={} response_metadata={} id='run-48007446-ec07-431d-8c40-a47169e133a6'\n",
            "content=' are' additional_kwargs={} response_metadata={} id='run-48007446-ec07-431d-8c40-a47169e133a6'\n",
            "content=' various' additional_kwargs={} response_metadata={} id='run-48007446-ec07-431d-8c40-a47169e133a6'\n",
            "content=' model' additional_kwargs={} response_metadata={} id='run-48007446-ec07-431d-8c40-a47169e133a6'\n",
            "content=' providers' additional_kwargs={} response_metadata={} id='run-48007446-ec07-431d-8c40-a47169e133a6'\n",
            "content=' that' additional_kwargs={} response_metadata={} id='run-48007446-ec07-431d-8c40-a47169e133a6'\n",
            "content=' offer' additional_kwargs={} response_metadata={} id='run-48007446-ec07-431d-8c40-a47169e133a6'\n",
            "content=' L' additional_kwargs={} response_metadata={} id='run-48007446-ec07-431d-8c40-a47169e133a6'\n",
            "content='LM' additional_kwargs={} response_metadata={} id='run-48007446-ec07-431d-8c40-a47169e133a6'\n",
            "content='s' additional_kwargs={} response_metadata={} id='run-48007446-ec07-431d-8c40-a47169e133a6'\n",
            "content=' (' additional_kwargs={} response_metadata={} id='run-48007446-ec07-431d-8c40-a47169e133a6'\n",
            "content='Legal' additional_kwargs={} response_metadata={} id='run-48007446-ec07-431d-8c40-a47169e133a6'\n",
            "content=' Entity' additional_kwargs={} response_metadata={} id='run-48007446-ec07-431d-8c40-a47169e133a6'\n",
            "content=' Ident' additional_kwargs={} response_metadata={} id='run-48007446-ec07-431d-8c40-a47169e133a6'\n",
            "content='ifiers' additional_kwargs={} response_metadata={} id='run-48007446-ec07-431d-8c40-a47169e133a6'\n",
            "content=').' additional_kwargs={} response_metadata={} id='run-48007446-ec07-431d-8c40-a47169e133a6'\n",
            "content=' Some' additional_kwargs={} response_metadata={} id='run-48007446-ec07-431d-8c40-a47169e133a6'\n",
            "content=' popular' additional_kwargs={} response_metadata={} id='run-48007446-ec07-431d-8c40-a47169e133a6'\n",
            "content=' providers' additional_kwargs={} response_metadata={} id='run-48007446-ec07-431d-8c40-a47169e133a6'\n",
            "content=' include' additional_kwargs={} response_metadata={} id='run-48007446-ec07-431d-8c40-a47169e133a6'\n",
            "content=' Bloomberg' additional_kwargs={} response_metadata={} id='run-48007446-ec07-431d-8c40-a47169e133a6'\n",
            "content=',' additional_kwargs={} response_metadata={} id='run-48007446-ec07-431d-8c40-a47169e133a6'\n",
            "content=' Ref' additional_kwargs={} response_metadata={} id='run-48007446-ec07-431d-8c40-a47169e133a6'\n",
            "content='init' additional_kwargs={} response_metadata={} id='run-48007446-ec07-431d-8c40-a47169e133a6'\n",
            "content='iv' additional_kwargs={} response_metadata={} id='run-48007446-ec07-431d-8c40-a47169e133a6'\n",
            "content=' (' additional_kwargs={} response_metadata={} id='run-48007446-ec07-431d-8c40-a47169e133a6'\n",
            "content='formerly' additional_kwargs={} response_metadata={} id='run-48007446-ec07-431d-8c40-a47169e133a6'\n",
            "content=' known' additional_kwargs={} response_metadata={} id='run-48007446-ec07-431d-8c40-a47169e133a6'\n",
            "content=' as' additional_kwargs={} response_metadata={} id='run-48007446-ec07-431d-8c40-a47169e133a6'\n",
            "content=' Thomson' additional_kwargs={} response_metadata={} id='run-48007446-ec07-431d-8c40-a47169e133a6'\n",
            "content=' Reuters' additional_kwargs={} response_metadata={} id='run-48007446-ec07-431d-8c40-a47169e133a6'\n",
            "content='),' additional_kwargs={} response_metadata={} id='run-48007446-ec07-431d-8c40-a47169e133a6'\n",
            "content=' Dun' additional_kwargs={} response_metadata={} id='run-48007446-ec07-431d-8c40-a47169e133a6'\n",
            "content=' &' additional_kwargs={} response_metadata={} id='run-48007446-ec07-431d-8c40-a47169e133a6'\n",
            "content=' Brad' additional_kwargs={} response_metadata={} id='run-48007446-ec07-431d-8c40-a47169e133a6'\n",
            "content='street' additional_kwargs={} response_metadata={} id='run-48007446-ec07-431d-8c40-a47169e133a6'\n",
            "content=',' additional_kwargs={} response_metadata={} id='run-48007446-ec07-431d-8c40-a47169e133a6'\n",
            "content=' and' additional_kwargs={} response_metadata={} id='run-48007446-ec07-431d-8c40-a47169e133a6'\n",
            "content=' Rapid' additional_kwargs={} response_metadata={} id='run-48007446-ec07-431d-8c40-a47169e133a6'\n",
            "content='LE' additional_kwargs={} response_metadata={} id='run-48007446-ec07-431d-8c40-a47169e133a6'\n",
            "content='I' additional_kwargs={} response_metadata={} id='run-48007446-ec07-431d-8c40-a47169e133a6'\n",
            "content='.' additional_kwargs={} response_metadata={} id='run-48007446-ec07-431d-8c40-a47169e133a6'\n",
            "content=' These' additional_kwargs={} response_metadata={} id='run-48007446-ec07-431d-8c40-a47169e133a6'\n",
            "content=' providers' additional_kwargs={} response_metadata={} id='run-48007446-ec07-431d-8c40-a47169e133a6'\n",
            "content=' can' additional_kwargs={} response_metadata={} id='run-48007446-ec07-431d-8c40-a47169e133a6'\n",
            "content=' help' additional_kwargs={} response_metadata={} id='run-48007446-ec07-431d-8c40-a47169e133a6'\n",
            "content=' organizations' additional_kwargs={} response_metadata={} id='run-48007446-ec07-431d-8c40-a47169e133a6'\n",
            "content=' obtain' additional_kwargs={} response_metadata={} id='run-48007446-ec07-431d-8c40-a47169e133a6'\n",
            "content=' and' additional_kwargs={} response_metadata={} id='run-48007446-ec07-431d-8c40-a47169e133a6'\n",
            "content=' manage' additional_kwargs={} response_metadata={} id='run-48007446-ec07-431d-8c40-a47169e133a6'\n",
            "content=' L' additional_kwargs={} response_metadata={} id='run-48007446-ec07-431d-8c40-a47169e133a6'\n",
            "content='LM' additional_kwargs={} response_metadata={} id='run-48007446-ec07-431d-8c40-a47169e133a6'\n",
            "content='s' additional_kwargs={} response_metadata={} id='run-48007446-ec07-431d-8c40-a47169e133a6'\n",
            "content=',' additional_kwargs={} response_metadata={} id='run-48007446-ec07-431d-8c40-a47169e133a6'\n",
            "content=' which' additional_kwargs={} response_metadata={} id='run-48007446-ec07-431d-8c40-a47169e133a6'\n",
            "content=' are' additional_kwargs={} response_metadata={} id='run-48007446-ec07-431d-8c40-a47169e133a6'\n",
            "content=' unique' additional_kwargs={} response_metadata={} id='run-48007446-ec07-431d-8c40-a47169e133a6'\n",
            "content=' ' additional_kwargs={} response_metadata={} id='run-48007446-ec07-431d-8c40-a47169e133a6'\n",
            "content='20' additional_kwargs={} response_metadata={} id='run-48007446-ec07-431d-8c40-a47169e133a6'\n",
            "content='-character' additional_kwargs={} response_metadata={} id='run-48007446-ec07-431d-8c40-a47169e133a6'\n",
            "content=' alphanumeric' additional_kwargs={} response_metadata={} id='run-48007446-ec07-431d-8c40-a47169e133a6'\n",
            "content=' codes' additional_kwargs={} response_metadata={} id='run-48007446-ec07-431d-8c40-a47169e133a6'\n",
            "content=' used' additional_kwargs={} response_metadata={} id='run-48007446-ec07-431d-8c40-a47169e133a6'\n",
            "content=' to' additional_kwargs={} response_metadata={} id='run-48007446-ec07-431d-8c40-a47169e133a6'\n",
            "content=' identify' additional_kwargs={} response_metadata={} id='run-48007446-ec07-431d-8c40-a47169e133a6'\n",
            "content=' legal' additional_kwargs={} response_metadata={} id='run-48007446-ec07-431d-8c40-a47169e133a6'\n",
            "content=' entities' additional_kwargs={} response_metadata={} id='run-48007446-ec07-431d-8c40-a47169e133a6'\n",
            "content=' participating' additional_kwargs={} response_metadata={} id='run-48007446-ec07-431d-8c40-a47169e133a6'\n",
            "content=' in' additional_kwargs={} response_metadata={} id='run-48007446-ec07-431d-8c40-a47169e133a6'\n",
            "content=' financial' additional_kwargs={} response_metadata={} id='run-48007446-ec07-431d-8c40-a47169e133a6'\n",
            "content=' transactions' additional_kwargs={} response_metadata={} id='run-48007446-ec07-431d-8c40-a47169e133a6'\n",
            "content='.' additional_kwargs={} response_metadata={} id='run-48007446-ec07-431d-8c40-a47169e133a6'\n",
            "content=' It' additional_kwargs={} response_metadata={} id='run-48007446-ec07-431d-8c40-a47169e133a6'\n",
            "content=\"'s\" additional_kwargs={} response_metadata={} id='run-48007446-ec07-431d-8c40-a47169e133a6'\n",
            "content=' recommended' additional_kwargs={} response_metadata={} id='run-48007446-ec07-431d-8c40-a47169e133a6'\n",
            "content=' to' additional_kwargs={} response_metadata={} id='run-48007446-ec07-431d-8c40-a47169e133a6'\n",
            "content=' research' additional_kwargs={} response_metadata={} id='run-48007446-ec07-431d-8c40-a47169e133a6'\n",
            "content=' each' additional_kwargs={} response_metadata={} id='run-48007446-ec07-431d-8c40-a47169e133a6'\n",
            "content=' provider' additional_kwargs={} response_metadata={} id='run-48007446-ec07-431d-8c40-a47169e133a6'\n",
            "content=\"'s\" additional_kwargs={} response_metadata={} id='run-48007446-ec07-431d-8c40-a47169e133a6'\n",
            "content=' specific' additional_kwargs={} response_metadata={} id='run-48007446-ec07-431d-8c40-a47169e133a6'\n",
            "content=' offerings' additional_kwargs={} response_metadata={} id='run-48007446-ec07-431d-8c40-a47169e133a6'\n",
            "content=' and' additional_kwargs={} response_metadata={} id='run-48007446-ec07-431d-8c40-a47169e133a6'\n",
            "content=' pricing' additional_kwargs={} response_metadata={} id='run-48007446-ec07-431d-8c40-a47169e133a6'\n",
            "content=' to' additional_kwargs={} response_metadata={} id='run-48007446-ec07-431d-8c40-a47169e133a6'\n",
            "content=' determine' additional_kwargs={} response_metadata={} id='run-48007446-ec07-431d-8c40-a47169e133a6'\n",
            "content=' the' additional_kwargs={} response_metadata={} id='run-48007446-ec07-431d-8c40-a47169e133a6'\n",
            "content=' best' additional_kwargs={} response_metadata={} id='run-48007446-ec07-431d-8c40-a47169e133a6'\n",
            "content=' fit' additional_kwargs={} response_metadata={} id='run-48007446-ec07-431d-8c40-a47169e133a6'\n",
            "content=' for' additional_kwargs={} response_metadata={} id='run-48007446-ec07-431d-8c40-a47169e133a6'\n",
            "content=' your' additional_kwargs={} response_metadata={} id='run-48007446-ec07-431d-8c40-a47169e133a6'\n",
            "content=' organization' additional_kwargs={} response_metadata={} id='run-48007446-ec07-431d-8c40-a47169e133a6'\n",
            "content=\"'s\" additional_kwargs={} response_metadata={} id='run-48007446-ec07-431d-8c40-a47169e133a6'\n",
            "content=' needs' additional_kwargs={} response_metadata={} id='run-48007446-ec07-431d-8c40-a47169e133a6'\n",
            "content='.' additional_kwargs={} response_metadata={} id='run-48007446-ec07-431d-8c40-a47169e133a6'\n",
            "content='' additional_kwargs={} response_metadata={'finish_reason': 'stop', 'model_name': 'gpt-3.5-turbo-0125'} id='run-48007446-ec07-431d-8c40-a47169e133a6'\n"
          ]
        }
      ]
    },
    {
      "cell_type": "markdown",
      "source": [
        "코드 1-16 선언형 구성을 사용한 비동기 실행"
      ],
      "metadata": {
        "id": "EX0YEGoEiyKA"
      }
    },
    {
      "cell_type": "code",
      "source": [
        "chatbot = template | model\n",
        "\n",
        "await chatbot.ainvoke({\n",
        "    \"question\": \"Which model providers offer LLMs?\"\n",
        "})\n"
      ],
      "metadata": {
        "colab": {
          "base_uri": "https://localhost:8080/"
        },
        "id": "dYP3U5z9i5jW",
        "outputId": "ed340756-9b9e-4f31-cb54-981fe81594f1"
      },
      "execution_count": 18,
      "outputs": [
        {
          "output_type": "execute_result",
          "data": {
            "text/plain": [
              "AIMessage(content=\"Several model providers offer Limited Liability Companies (LLCs) formation services. Some popular options include LegalZoom, Incfile, ZenBusiness, Rocket Lawyer, and Northwest Registered Agent. Each provider offers different pricing, services, and features, so it's essential to research and compare them to find the best fit for your specific needs.\", additional_kwargs={'refusal': None}, response_metadata={'token_usage': {'completion_tokens': 66, 'prompt_tokens': 25, 'total_tokens': 91, 'completion_tokens_details': {'accepted_prediction_tokens': 0, 'audio_tokens': 0, 'reasoning_tokens': 0, 'rejected_prediction_tokens': 0}, 'prompt_tokens_details': {'audio_tokens': 0, 'cached_tokens': 0}}, 'model_name': 'gpt-3.5-turbo-0125', 'system_fingerprint': None, 'finish_reason': 'stop', 'logprobs': None}, id='run-3a8f8605-8fe9-494d-8dd0-b8be05964708-0', usage_metadata={'input_tokens': 25, 'output_tokens': 66, 'total_tokens': 91, 'input_token_details': {'audio': 0, 'cache_read': 0}, 'output_token_details': {'audio': 0, 'reasoning': 0}})"
            ]
          },
          "metadata": {},
          "execution_count": 18
        }
      ]
    }
  ]
}